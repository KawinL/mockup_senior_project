{
 "cells": [
  {
   "cell_type": "code",
   "execution_count": 2,
   "metadata": {},
   "outputs": [],
   "source": [
    "import gensim\n",
    "import numpy as np\n",
    "from sklearn.manifold import TSNE\n",
    "import matplotlib.pyplot as plt\n",
    "from matplotlib.font_manager import FontProperties\n",
    "import os\n",
    "import tensorflow as tf\n",
    "from tensorflow.contrib.tensorboard.plugins import projector"
   ]
  },
  {
   "cell_type": "code",
   "execution_count": 3,
   "metadata": {
    "collapsed": true
   },
   "outputs": [],
   "source": [
    "# Load & train word2vec model\n",
    "model = gensim.models.Word2Vec.load('/Users/AUM/Documents/PROJECT/mockup_senior_project/thai_text_mock_up/chula_w2v/chula_w2v.bin')"
   ]
  },
  {
   "cell_type": "code",
   "execution_count": 4,
   "metadata": {
    "collapsed": true,
    "scrolled": false
   },
   "outputs": [],
   "source": [
    "words = []\n",
    "for word in model.wv.vocab:\n",
    "    words.append(word)"
   ]
  },
  {
   "cell_type": "code",
   "execution_count": 5,
   "metadata": {
    "collapsed": true
   },
   "outputs": [],
   "source": [
    "# # write labels\n",
    "# count = len(model.wv.vocab)\n",
    "# with open('meta_data/model_vocab.txt', 'w') as f:\n",
    "#     for idx, word in enumerate(model.wv.vocab):\n",
    "#         if idx < count:\n",
    "#             if (idx < (count - 1)):\n",
    "#                 f.write(word + '\\n')\n",
    "#             else:\n",
    "#                 f.write(word)\n",
    "#         else: break\n",
    "# print(\"model_vocab.txt done!\")"
   ]
  },
  {
   "cell_type": "code",
   "execution_count": 9,
   "metadata": {
    "scrolled": true
   },
   "outputs": [
    {
     "name": "stdout",
     "output_type": "stream",
     "text": [
      "Number of Tokens: 23213\n"
     ]
    }
   ],
   "source": [
    "# Printing out number of tokens available\n",
    "print(\"Number of Tokens: {}\".format(len(words)))"
   ]
  },
  {
   "cell_type": "code",
   "execution_count": 18,
   "metadata": {
    "scrolled": false
   },
   "outputs": [
    {
     "name": "stdout",
     "output_type": "stream",
     "text": [
      "Word: จุฬา, Similarity: 0.89\n",
      "Word: ฬ, Similarity: 0.87\n",
      "Word: จุฬาคะ, Similarity: 0.83\n",
      "Word: ป.เอก, Similarity: 0.82\n",
      "Word: รัฐศาสตร์, Similarity: 0.82\n",
      "Word: ฬ., Similarity: 0.82\n",
      "Word: จุฬา vs, Similarity: 0.82\n",
      "Word: จุฬาครับ, Similarity: 0.81\n",
      "Word: บัญชี, Similarity: 0.81\n",
      "Word: ธรรมศาสตร์, Similarity: 0.81\n",
      "Word: จุฬาลงกรณ์มหาวิทยาลัย, Similarity: 0.80\n",
      "Word: BBA, Similarity: 0.80\n",
      "Word: จุฬากับ, Similarity: 0.79\n",
      "Word: ศิลปากร, Similarity: 0.78\n",
      "Word: degree, Similarity: 0.78\n",
      "Word: ป.โท, Similarity: 0.78\n",
      "Word: วารสาร, Similarity: 0.78\n",
      "Word: จุฬาค่า, Similarity: 0.77\n",
      "Word: อักษร, Similarity: 0.77\n",
      "Word: ITP, Similarity: 0.77\n"
     ]
    }
   ],
   "source": [
    "# Pick a word \n",
    "find_similar_to = 'จุฬาฯ' # expected [จุฬา, ฬ, จุฬาลงกรณ์มหาวิทยาลัย]\n",
    "similar_words = []\n",
    "# Finding out similar words [default= top 10]\n",
    "for similar_word in model.similar_by_word(find_similar_to, topn=20):\n",
    "    similar_words.append(similar_word[0])\n",
    "    print(\"Word: {0}, Similarity: {1:.2f}\".format(\n",
    "        similar_word[0], similar_word[1]\n",
    "    ))"
   ]
  },
  {
   "cell_type": "code",
   "execution_count": 11,
   "metadata": {},
   "outputs": [
    {
     "name": "stdout",
     "output_type": "stream",
     "text": [
      "0\n"
     ]
    }
   ],
   "source": [
    "print(len(similar_words))"
   ]
  },
  {
   "cell_type": "code",
   "execution_count": 23,
   "metadata": {
    "collapsed": true
   },
   "outputs": [],
   "source": [
    "vector_dim = 100\n",
    "# Getting tokens and vectors\n",
    "words = []\n",
    "embedding = np.array([])\n",
    "i = 0\n",
    "for word in similar_words:\n",
    "\n",
    "    # Getting token \n",
    "    words.append(word)\n",
    "\n",
    "    # Appending the vectors \n",
    "    embedding = np.append(embedding, model[word])\n",
    "\n",
    "    i += 1\n",
    "\n",
    "# Reshaping the embedding vector \n",
    "embedding = embedding.reshape(len(similar_words), vector_dim)"
   ]
  },
  {
   "cell_type": "code",
   "execution_count": 24,
   "metadata": {
    "collapsed": true
   },
   "outputs": [],
   "source": [
    "ThaiFont = FontProperties(fname = '/Users/AUM/Library/Fonts/THSarabunChula-Regular.ttf')\n",
    "\n",
    "def plot_with_labels(low_dim_embs, labels, filename='tsne.png'):\n",
    "    assert low_dim_embs.shape[0] >= len(labels), \"More labels than embeddings\"\n",
    "    plt.figure(figsize=(18, 18))  # in inches\n",
    "    for i, label in enumerate(labels):\n",
    "        x, y = low_dim_embs[i, :]\n",
    "        plt.scatter(x, y)\n",
    "        plt.annotate(label,\n",
    "                 xy=(x, y),\n",
    "                 xytext=(5, 2),\n",
    "                 textcoords='offset points',\n",
    "                 ha='right',\n",
    "                 va='bottom',\n",
    "                 fontproperties = ThaiFont)\n",
    "    plt.savefig(filename, dpi=300)\n",
    "    \n",
    "# Creating the tsne plot [Warning: will take time]\n",
    "tsne = TSNE(perplexity=30.0, n_components=2, init='pca', n_iter=5000)\n",
    "\n",
    "low_dim_embedding = tsne.fit_transform(embedding)\n",
    "\n",
    "# Finally plotting and saving the fig \n",
    "plot_with_labels(low_dim_embedding, words)"
   ]
  },
  {
   "cell_type": "code",
   "execution_count": null,
   "metadata": {
    "collapsed": true
   },
   "outputs": [],
   "source": []
  }
 ],
 "metadata": {
  "kernelspec": {
   "display_name": "Python 3",
   "language": "python",
   "name": "python3"
  },
  "language_info": {
   "codemirror_mode": {
    "name": "ipython",
    "version": 3
   },
   "file_extension": ".py",
   "mimetype": "text/x-python",
   "name": "python",
   "nbconvert_exporter": "python",
   "pygments_lexer": "ipython3",
   "version": "3.5.0"
  }
 },
 "nbformat": 4,
 "nbformat_minor": 2
}
